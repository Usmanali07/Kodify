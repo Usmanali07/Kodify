{
  "nbformat": 4,
  "nbformat_minor": 0,
  "metadata": {
    "colab": {
      "provenance": []
    },
    "kernelspec": {
      "name": "python3",
      "display_name": "Python 3"
    },
    "language_info": {
      "name": "python"
    }
  },
  "cells": [
    {
      "cell_type": "markdown",
      "source": [
        "\n",
        "\n",
        "**Usman Ali**\n",
        "\n",
        "E-mail     usmanalipgc@gmail.com\n",
        "\n",
        "Phone      +923234751648\n",
        "\n"
      ],
      "metadata": {
        "id": "0_S_-XdYcSCN"
      }
    },
    {
      "cell_type": "code",
      "source": [
        "median = 0\n",
        "i = 0\n",
        "j = 0\n",
        "\n"
      ],
      "metadata": {
        "id": "_JJY4-6NePp6"
      },
      "execution_count": 74,
      "outputs": []
    },
    {
      "cell_type": "code",
      "source": [
        "def maximum(a, b):\n",
        "\treturn a if a > b else b\n",
        "def minimum(a, b):\n",
        "\treturn a if a < b else b"
      ],
      "metadata": {
        "id": "RmWHEdbt4KMX"
      },
      "execution_count": 75,
      "outputs": []
    },
    {
      "cell_type": "code",
      "source": [
        "\n",
        "def MSA(a, n, b, m):\n",
        "    if n==0:\n",
        "        if m % 2==0:\n",
        "            return (b[m/2]+b[(m/2)+1])/2\n",
        "        \n",
        "        else:\n",
        "            return b[int(m/2)]\n",
        "    elif m==0:\n",
        "        if n%2==0:\n",
        "              return (a[n/2]+a[(n/2)+1])/2\n",
        "        else:\n",
        "            return a[int(n/2)]\n",
        "\n",
        "\t\n",
        "    global median, i, j\n",
        "    min_index = 0\n",
        "    max_index = n\n",
        "\n",
        "    while (min_index <= max_index):\n",
        "         i = int((min_index + max_index) / 2)\n",
        "         j = int(((n + m + 1) / 2) - i)\n",
        "         \n",
        "         if (i < n and j > 0 and b[j - 1] > a[i]):\n",
        "             min_index = i + 1\n",
        "         elif (i > 0 and j < m and b[j] < a[i - 1]):\n",
        "             max_index = i - 1\n",
        "         else:\n",
        "             if (i == 0):\n",
        "                 median = b[j - 1]\n",
        "             elif (j == 0):\n",
        "                 median = a[i - 1]\n",
        "             else:\n",
        "                 median = maximum(a[i - 1], b[j - 1])\n",
        "             break\n",
        "    if ((n + m) % 2 == 1):\n",
        "        return median\n",
        "    if (i == n):\n",
        "        return ((median + b[j]) / 2.0)\n",
        "    if (j == m):\n",
        "        return ((median + a[i]) / 2.0)\n",
        "    return ((median + minimum(a[i], b[j])) / 2.0)\n",
        "\n",
        "\n",
        "\n",
        "\n",
        "\n"
      ],
      "metadata": {
        "id": "ng5rIClc4N2l"
      },
      "execution_count": 76,
      "outputs": []
    },
    {
      "cell_type": "code",
      "source": [
        "# Driver code\n",
        "a = [1,3] # input the arry \n",
        "b = [2]\n",
        "n = len(a)\n",
        "m = len(b)\n",
        "\n",
        "\n",
        "if (n < m):\n",
        "\tprint(\"The median is {}\".format(MSA(a, n, b, m)))\n",
        "else:\n",
        "\tprint(\"The median is {}\".format(MSA(b, m, a, n)))"
      ],
      "metadata": {
        "colab": {
          "base_uri": "https://localhost:8080/"
        },
        "id": "iHrFqN1J4RMd",
        "outputId": "01b95be8-f25f-4468-b784-bb07afb5ffc1"
      },
      "execution_count": 78,
      "outputs": [
        {
          "output_type": "stream",
          "name": "stdout",
          "text": [
            "The median is 2\n"
          ]
        }
      ]
    }
  ]
}