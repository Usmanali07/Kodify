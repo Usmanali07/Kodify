{
  "nbformat": 4,
  "nbformat_minor": 0,
  "metadata": {
    "colab": {
      "provenance": []
    },
    "kernelspec": {
      "name": "python3",
      "display_name": "Python 3"
    },
    "language_info": {
      "name": "python"
    }
  },
  "cells": [
    {
      "cell_type": "markdown",
      "source": [
        "\n",
        "\n",
        "**Usman Ali**\n",
        "\n",
        "E-mail     usmanalipgc@gmail.com\n",
        "\n",
        "Phone      +923234751648\n",
        "\n"
      ],
      "metadata": {
        "id": "0_S_-XdYcSCN"
      }
    },
    {
      "cell_type": "code",
      "source": [
        "\n",
        "class Node:\n",
        "\tdef __init__(self, new_data):\n",
        "\t\tself.data = new_data\n",
        "\t\tself.next = None\n",
        "class LinkedList:\n",
        "\tdef __init__(self):\n",
        "\t\tself.head = None\n",
        "\tdef push(self, new_data):\n",
        "\t\tnew_node = Node(new_data)\n",
        "\t\tnew_node.next = self.head\n",
        "\t\tself.head = new_node\n",
        "\n",
        "\tdef deleteNode(self, n):\n",
        "\t\tfirst = self.head\n",
        "\t\tsecond = self.head\n",
        "\t\tfor i in range(n):\n",
        "\t\t\tif(second.next == None):\n",
        "\t\t\t\tif(i == n - 1):\n",
        "\t\t\t\t\tself.head = self.head.next\n",
        "\t\t\t\treturn self.head\n",
        "\t\t\tsecond = second.next\n",
        "\t\t\n",
        "\t\twhile(second.next != None):\n",
        "\t\t\tsecond = second.next\n",
        "\t\t\tfirst = first.next\n",
        "\t\t\n",
        "\t\tfirst.next = first.next.next\n",
        "\t\n",
        "\tdef printList(self):\n",
        "\t\ttmp_head = self.head\n",
        "\t\twhile(tmp_head != None):\n",
        "\t\t\tprint(tmp_head.data, end = ' ')\n",
        "\t\t\ttmp_head = tmp_head.next\n",
        "\t\t\n",
        "\n",
        "print(\"Please entre dot afer end of list . \")\n",
        "llist = LinkedList()\n",
        "for i in range(0,100):\n",
        "    z =input(\"please Entre one number\")\n",
        "    if z == \".\":\n",
        "        break\n",
        "    llist.push(z)\n",
        "\n",
        "print(\"list is\")\n",
        "llist.printList()\n",
        "y = int(input(\"Please Entre node loction number be one digit\\n\"))\n",
        "llist.deleteNode(y)\n",
        "print(\"\\n List after Deletion\")\n",
        "llist.printList()\n",
        "\n"
      ],
      "metadata": {
        "colab": {
          "base_uri": "https://localhost:8080/"
        },
        "id": "UD6vyiEHZEia",
        "outputId": "ab53c663-27e0-4004-88a6-6d0800717247"
      },
      "execution_count": 45,
      "outputs": [
        {
          "output_type": "stream",
          "name": "stdout",
          "text": [
            "Please entre dot afer end of list . \n",
            "please Entre one number5\n",
            "please Entre one number4\n",
            "please Entre one number3\n",
            "please Entre one number2\n",
            "please Entre one number1\n",
            "please Entre one number.\n",
            "list is\n",
            "1 2 3 4 5 Please Entre node loction number be one digit\n",
            "12\n",
            "\n",
            " List after Deletion\n",
            "1 2 3 5 "
          ]
        }
      ]
    },
    {
      "cell_type": "code",
      "source": [],
      "metadata": {
        "id": "_JJY4-6NePp6"
      },
      "execution_count": null,
      "outputs": []
    }
  ]
}